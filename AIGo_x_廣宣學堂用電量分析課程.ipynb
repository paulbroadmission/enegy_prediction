{
  "nbformat": 4,
  "nbformat_minor": 0,
  "metadata": {
    "colab": {
      "name": "AIGo x 廣宣學堂用電量分析課程.ipynb",
      "provenance": [],
      "collapsed_sections": []
    },
    "kernelspec": {
      "name": "python3",
      "display_name": "Python 3"
    }
  },
  "cells": [
    {
      "cell_type": "markdown",
      "metadata": {
        "id": "P4zv-XIDuRBC",
        "colab_type": "text"
      },
      "source": [
        "# 用電量偵測分析 \n",
        "## AIGo x 廣宣科技\n",
        "## Paul Chao\n",
        "### 教材Github連結 \n",
        "https://github.com/paulbroadmission/enegy_prediction\n"
      ]
    },
    {
      "cell_type": "markdown",
      "metadata": {
        "id": "SwRq061X9EYK",
        "colab_type": "text"
      },
      "source": [
        "# 第一部分 資料取得以及數據前處理"
      ]
    },
    {
      "cell_type": "markdown",
      "metadata": {
        "id": "c2RH8GUxGEL9",
        "colab_type": "text"
      },
      "source": [
        "## 下載公開電量資料"
      ]
    },
    {
      "cell_type": "code",
      "metadata": {
        "id": "nzFRKJ1wx6Mh",
        "colab_type": "code",
        "outputId": "182ecc71-0b68-45fa-dbf4-23cb2eeb9a76",
        "colab": {
          "base_uri": "https://localhost:8080/",
          "height": 321
        }
      },
      "source": [
        "!wget -O power.csv https://drive.google.com/uc?id=1flQL7Ay89coKdaLKzj_RjYGfGDM34vzJ&export=download"
      ],
      "execution_count": 0,
      "outputs": [
        {
          "output_type": "stream",
          "text": [
            "--2020-05-17 06:38:08--  https://drive.google.com/uc?id=1flQL7Ay89coKdaLKzj_RjYGfGDM34vzJ\n",
            "Resolving drive.google.com (drive.google.com)... 74.125.20.100, 74.125.20.139, 74.125.20.138, ...\n",
            "Connecting to drive.google.com (drive.google.com)|74.125.20.100|:443... connected.\n",
            "HTTP request sent, awaiting response... 302 Moved Temporarily\n",
            "Location: https://doc-0k-50-docs.googleusercontent.com/docs/securesc/ha0ro937gcuc7l7deffksulhg5h7mbp1/pmsmdevnar0mih2rg0rf439anm6q5c76/1589697450000/07095198576811316580/*/1flQL7Ay89coKdaLKzj_RjYGfGDM34vzJ [following]\n",
            "Warning: wildcards not supported in HTTP.\n",
            "--2020-05-17 06:38:08--  https://doc-0k-50-docs.googleusercontent.com/docs/securesc/ha0ro937gcuc7l7deffksulhg5h7mbp1/pmsmdevnar0mih2rg0rf439anm6q5c76/1589697450000/07095198576811316580/*/1flQL7Ay89coKdaLKzj_RjYGfGDM34vzJ\n",
            "Resolving doc-0k-50-docs.googleusercontent.com (doc-0k-50-docs.googleusercontent.com)... 74.125.142.132, 2607:f8b0:400e:c08::84\n",
            "Connecting to doc-0k-50-docs.googleusercontent.com (doc-0k-50-docs.googleusercontent.com)|74.125.142.132|:443... connected.\n",
            "HTTP request sent, awaiting response... 200 OK\n",
            "Length: unspecified [text/csv]\n",
            "Saving to: ‘power.csv’\n",
            "\n",
            "\rpower.csv               [<=>                 ]       0  --.-KB/s               \rpower.csv               [ <=>                ]   3.83M  --.-KB/s    in 0.02s   \n",
            "\n",
            "2020-05-17 06:38:09 (189 MB/s) - ‘power.csv’ saved [4012001]\n",
            "\n"
          ],
          "name": "stdout"
        }
      ]
    },
    {
      "cell_type": "markdown",
      "metadata": {
        "id": "qKZSrR3WGBMt",
        "colab_type": "text"
      },
      "source": [
        "## 讀入資料"
      ]
    },
    {
      "cell_type": "code",
      "metadata": {
        "id": "vhxiNTUPyLRI",
        "colab_type": "code",
        "outputId": "f140ac83-5b99-4568-d587-14c5bda7af39",
        "colab": {
          "base_uri": "https://localhost:8080/",
          "height": 196
        }
      },
      "source": [
        "import pandas as pd\n",
        "\n",
        "df = pd.read_csv(\"power.csv\")\n",
        "df.head()"
      ],
      "execution_count": 0,
      "outputs": [
        {
          "output_type": "execute_result",
          "data": {
            "text/html": [
              "<div>\n",
              "<style scoped>\n",
              "    .dataframe tbody tr th:only-of-type {\n",
              "        vertical-align: middle;\n",
              "    }\n",
              "\n",
              "    .dataframe tbody tr th {\n",
              "        vertical-align: top;\n",
              "    }\n",
              "\n",
              "    .dataframe thead th {\n",
              "        text-align: right;\n",
              "    }\n",
              "</style>\n",
              "<table border=\"1\" class=\"dataframe\">\n",
              "  <thead>\n",
              "    <tr style=\"text-align: right;\">\n",
              "      <th></th>\n",
              "      <th>Datetime</th>\n",
              "      <th>Load</th>\n",
              "    </tr>\n",
              "  </thead>\n",
              "  <tbody>\n",
              "    <tr>\n",
              "      <th>0</th>\n",
              "      <td>1998-12-31 1:00:00</td>\n",
              "      <td>29309.0</td>\n",
              "    </tr>\n",
              "    <tr>\n",
              "      <th>1</th>\n",
              "      <td>1998-12-31 2:00:00</td>\n",
              "      <td>28236.0</td>\n",
              "    </tr>\n",
              "    <tr>\n",
              "      <th>2</th>\n",
              "      <td>1998-12-31 3:00:00</td>\n",
              "      <td>27692.0</td>\n",
              "    </tr>\n",
              "    <tr>\n",
              "      <th>3</th>\n",
              "      <td>1998-12-31 4:00:00</td>\n",
              "      <td>27596.0</td>\n",
              "    </tr>\n",
              "    <tr>\n",
              "      <th>4</th>\n",
              "      <td>1998-12-31 5:00:00</td>\n",
              "      <td>27888.0</td>\n",
              "    </tr>\n",
              "  </tbody>\n",
              "</table>\n",
              "</div>"
            ],
            "text/plain": [
              "             Datetime     Load\n",
              "0  1998-12-31 1:00:00  29309.0\n",
              "1  1998-12-31 2:00:00  28236.0\n",
              "2  1998-12-31 3:00:00  27692.0\n",
              "3  1998-12-31 4:00:00  27596.0\n",
              "4  1998-12-31 5:00:00  27888.0"
            ]
          },
          "metadata": {
            "tags": []
          },
          "execution_count": 3
        }
      ]
    },
    {
      "cell_type": "code",
      "metadata": {
        "id": "zNR4L7cr-fJB",
        "colab_type": "code",
        "outputId": "69f6426a-ad81-4672-ce44-4a1775e7fe76",
        "colab": {
          "base_uri": "https://localhost:8080/",
          "height": 196
        }
      },
      "source": [
        "df.tail()"
      ],
      "execution_count": 0,
      "outputs": [
        {
          "output_type": "execute_result",
          "data": {
            "text/html": [
              "<div>\n",
              "<style scoped>\n",
              "    .dataframe tbody tr th:only-of-type {\n",
              "        vertical-align: middle;\n",
              "    }\n",
              "\n",
              "    .dataframe tbody tr th {\n",
              "        vertical-align: top;\n",
              "    }\n",
              "\n",
              "    .dataframe thead th {\n",
              "        text-align: right;\n",
              "    }\n",
              "</style>\n",
              "<table border=\"1\" class=\"dataframe\">\n",
              "  <thead>\n",
              "    <tr style=\"text-align: right;\">\n",
              "      <th></th>\n",
              "      <th>Datetime</th>\n",
              "      <th>Load</th>\n",
              "    </tr>\n",
              "  </thead>\n",
              "  <tbody>\n",
              "    <tr>\n",
              "      <th>178257</th>\n",
              "      <td>2018-01-01 20:00:00</td>\n",
              "      <td>NaN</td>\n",
              "    </tr>\n",
              "    <tr>\n",
              "      <th>178258</th>\n",
              "      <td>2018-01-01 21:00:00</td>\n",
              "      <td>NaN</td>\n",
              "    </tr>\n",
              "    <tr>\n",
              "      <th>178259</th>\n",
              "      <td>2018-01-01 22:00:00</td>\n",
              "      <td>NaN</td>\n",
              "    </tr>\n",
              "    <tr>\n",
              "      <th>178260</th>\n",
              "      <td>2018-01-01 23:00:00</td>\n",
              "      <td>NaN</td>\n",
              "    </tr>\n",
              "    <tr>\n",
              "      <th>178261</th>\n",
              "      <td>2018-01-02 0:00:00</td>\n",
              "      <td>NaN</td>\n",
              "    </tr>\n",
              "  </tbody>\n",
              "</table>\n",
              "</div>"
            ],
            "text/plain": [
              "                   Datetime  Load\n",
              "178257  2018-01-01 20:00:00   NaN\n",
              "178258  2018-01-01 21:00:00   NaN\n",
              "178259  2018-01-01 22:00:00   NaN\n",
              "178260  2018-01-01 23:00:00   NaN\n",
              "178261   2018-01-02 0:00:00   NaN"
            ]
          },
          "metadata": {
            "tags": []
          },
          "execution_count": 4
        }
      ]
    },
    {
      "cell_type": "markdown",
      "metadata": {
        "id": "LpVPqWc_F6ze",
        "colab_type": "text"
      },
      "source": [
        "## 資料的狀態"
      ]
    },
    {
      "cell_type": "code",
      "metadata": {
        "id": "1L7mhv_YEWed",
        "colab_type": "code",
        "outputId": "5eb10709-e72d-4972-d407-e8d04e65cc33",
        "colab": {
          "base_uri": "https://localhost:8080/",
          "height": 33
        }
      },
      "source": [
        "df.shape"
      ],
      "execution_count": 0,
      "outputs": [
        {
          "output_type": "execute_result",
          "data": {
            "text/plain": [
              "(178262, 2)"
            ]
          },
          "metadata": {
            "tags": []
          },
          "execution_count": 5
        }
      ]
    },
    {
      "cell_type": "code",
      "metadata": {
        "id": "AIlMYacm0F9w",
        "colab_type": "code",
        "outputId": "888e9c9b-dbf4-4e1d-def5-25cae99e4be8",
        "colab": {
          "base_uri": "https://localhost:8080/",
          "height": 167
        }
      },
      "source": [
        "df.info()"
      ],
      "execution_count": 0,
      "outputs": [
        {
          "output_type": "stream",
          "text": [
            "<class 'pandas.core.frame.DataFrame'>\n",
            "RangeIndex: 178262 entries, 0 to 178261\n",
            "Data columns (total 2 columns):\n",
            " #   Column    Non-Null Count   Dtype  \n",
            "---  ------    --------------   -----  \n",
            " 0   Datetime  178262 non-null  object \n",
            " 1   Load      32896 non-null   float64\n",
            "dtypes: float64(1), object(1)\n",
            "memory usage: 2.7+ MB\n"
          ],
          "name": "stdout"
        }
      ]
    },
    {
      "cell_type": "code",
      "metadata": {
        "id": "-QzdzNSOElLL",
        "colab_type": "code",
        "outputId": "fc9f9476-a208-4b98-e7e8-6e07cacbb3e6",
        "colab": {
          "base_uri": "https://localhost:8080/",
          "height": 286
        }
      },
      "source": [
        "df.describe()"
      ],
      "execution_count": 0,
      "outputs": [
        {
          "output_type": "execute_result",
          "data": {
            "text/html": [
              "<div>\n",
              "<style scoped>\n",
              "    .dataframe tbody tr th:only-of-type {\n",
              "        vertical-align: middle;\n",
              "    }\n",
              "\n",
              "    .dataframe tbody tr th {\n",
              "        vertical-align: top;\n",
              "    }\n",
              "\n",
              "    .dataframe thead th {\n",
              "        text-align: right;\n",
              "    }\n",
              "</style>\n",
              "<table border=\"1\" class=\"dataframe\">\n",
              "  <thead>\n",
              "    <tr style=\"text-align: right;\">\n",
              "      <th></th>\n",
              "      <th>Load</th>\n",
              "    </tr>\n",
              "  </thead>\n",
              "  <tbody>\n",
              "    <tr>\n",
              "      <th>count</th>\n",
              "      <td>32896.000000</td>\n",
              "    </tr>\n",
              "    <tr>\n",
              "      <th>mean</th>\n",
              "      <td>29766.427408</td>\n",
              "    </tr>\n",
              "    <tr>\n",
              "      <th>std</th>\n",
              "      <td>5849.769954</td>\n",
              "    </tr>\n",
              "    <tr>\n",
              "      <th>min</th>\n",
              "      <td>17461.000000</td>\n",
              "    </tr>\n",
              "    <tr>\n",
              "      <th>25%</th>\n",
              "      <td>25473.000000</td>\n",
              "    </tr>\n",
              "    <tr>\n",
              "      <th>50%</th>\n",
              "      <td>29655.000000</td>\n",
              "    </tr>\n",
              "    <tr>\n",
              "      <th>75%</th>\n",
              "      <td>33073.250000</td>\n",
              "    </tr>\n",
              "    <tr>\n",
              "      <th>max</th>\n",
              "      <td>54030.000000</td>\n",
              "    </tr>\n",
              "  </tbody>\n",
              "</table>\n",
              "</div>"
            ],
            "text/plain": [
              "               Load\n",
              "count  32896.000000\n",
              "mean   29766.427408\n",
              "std     5849.769954\n",
              "min    17461.000000\n",
              "25%    25473.000000\n",
              "50%    29655.000000\n",
              "75%    33073.250000\n",
              "max    54030.000000"
            ]
          },
          "metadata": {
            "tags": []
          },
          "execution_count": 7
        }
      ]
    },
    {
      "cell_type": "markdown",
      "metadata": {
        "id": "Vf7-71mTFgxx",
        "colab_type": "text"
      },
      "source": [
        "## 查看是否有空值"
      ]
    },
    {
      "cell_type": "code",
      "metadata": {
        "id": "rbMyowWKFQ5n",
        "colab_type": "code",
        "outputId": "5e57b7ea-25c0-4faa-ed45-eae79e68497a",
        "colab": {
          "base_uri": "https://localhost:8080/",
          "height": 33
        }
      },
      "source": [
        "print(df.isnull().values.any())"
      ],
      "execution_count": 0,
      "outputs": [
        {
          "output_type": "stream",
          "text": [
            "True\n"
          ],
          "name": "stdout"
        }
      ]
    },
    {
      "cell_type": "code",
      "metadata": {
        "id": "5qsEiQoqFd4I",
        "colab_type": "code",
        "outputId": "3d7f5d70-d04b-4b0d-893a-5059feb81701",
        "colab": {
          "base_uri": "https://localhost:8080/",
          "height": 67
        }
      },
      "source": [
        "print(df.isnull().sum())"
      ],
      "execution_count": 0,
      "outputs": [
        {
          "output_type": "stream",
          "text": [
            "Datetime         0\n",
            "Load        145366\n",
            "dtype: int64\n"
          ],
          "name": "stdout"
        }
      ]
    },
    {
      "cell_type": "code",
      "metadata": {
        "id": "SacB81YXFWtG",
        "colab_type": "code",
        "outputId": "294a858f-7e78-492a-876f-2c81d5fbcfed",
        "colab": {
          "base_uri": "https://localhost:8080/",
          "height": 33
        }
      },
      "source": [
        "print(df.isnull().sum().sum())"
      ],
      "execution_count": 0,
      "outputs": [
        {
          "output_type": "stream",
          "text": [
            "145366\n"
          ],
          "name": "stdout"
        }
      ]
    },
    {
      "cell_type": "code",
      "metadata": {
        "id": "xvTmGXLR8vTH",
        "colab_type": "code",
        "outputId": "e7fd19eb-4c7a-4cfb-d741-2491af50483f",
        "colab": {
          "base_uri": "https://localhost:8080/",
          "height": 251
        }
      },
      "source": [
        "print(df[df.isnull().T.any()])"
      ],
      "execution_count": 0,
      "outputs": [
        {
          "output_type": "stream",
          "text": [
            "                   Datetime  Load\n",
            "32896    2002-12-31 1:00:00   NaN\n",
            "32897    2002-12-31 2:00:00   NaN\n",
            "32898    2002-12-31 3:00:00   NaN\n",
            "32899    2002-12-31 4:00:00   NaN\n",
            "32900    2002-12-31 5:00:00   NaN\n",
            "...                     ...   ...\n",
            "178257  2018-01-01 20:00:00   NaN\n",
            "178258  2018-01-01 21:00:00   NaN\n",
            "178259  2018-01-01 22:00:00   NaN\n",
            "178260  2018-01-01 23:00:00   NaN\n",
            "178261   2018-01-02 0:00:00   NaN\n",
            "\n",
            "[145366 rows x 2 columns]\n"
          ],
          "name": "stdout"
        }
      ]
    },
    {
      "cell_type": "code",
      "metadata": {
        "id": "aBSc1RQX9Pnu",
        "colab_type": "code",
        "colab": {}
      },
      "source": [
        "df.dropna(inplace=True) "
      ],
      "execution_count": 0,
      "outputs": []
    },
    {
      "cell_type": "markdown",
      "metadata": {
        "id": "3hCSOIYYHdfh",
        "colab_type": "text"
      },
      "source": [
        "## 調整 index "
      ]
    },
    {
      "cell_type": "code",
      "metadata": {
        "id": "gO-xg7jdHgBX",
        "colab_type": "code",
        "outputId": "7e866b8e-fbc0-4410-9bbc-912155d4d7ff",
        "colab": {
          "base_uri": "https://localhost:8080/",
          "height": 196
        }
      },
      "source": [
        "df['Datetime'] = pd.to_datetime(df['Datetime'], format=\"%Y-%m-%d %H:%M:%S\") #增加一個Datetime 的欄位\n",
        "df.head()"
      ],
      "execution_count": 0,
      "outputs": [
        {
          "output_type": "execute_result",
          "data": {
            "text/html": [
              "<div>\n",
              "<style scoped>\n",
              "    .dataframe tbody tr th:only-of-type {\n",
              "        vertical-align: middle;\n",
              "    }\n",
              "\n",
              "    .dataframe tbody tr th {\n",
              "        vertical-align: top;\n",
              "    }\n",
              "\n",
              "    .dataframe thead th {\n",
              "        text-align: right;\n",
              "    }\n",
              "</style>\n",
              "<table border=\"1\" class=\"dataframe\">\n",
              "  <thead>\n",
              "    <tr style=\"text-align: right;\">\n",
              "      <th></th>\n",
              "      <th>Datetime</th>\n",
              "      <th>Load</th>\n",
              "    </tr>\n",
              "  </thead>\n",
              "  <tbody>\n",
              "    <tr>\n",
              "      <th>0</th>\n",
              "      <td>1998-12-31 01:00:00</td>\n",
              "      <td>29309.0</td>\n",
              "    </tr>\n",
              "    <tr>\n",
              "      <th>1</th>\n",
              "      <td>1998-12-31 02:00:00</td>\n",
              "      <td>28236.0</td>\n",
              "    </tr>\n",
              "    <tr>\n",
              "      <th>2</th>\n",
              "      <td>1998-12-31 03:00:00</td>\n",
              "      <td>27692.0</td>\n",
              "    </tr>\n",
              "    <tr>\n",
              "      <th>3</th>\n",
              "      <td>1998-12-31 04:00:00</td>\n",
              "      <td>27596.0</td>\n",
              "    </tr>\n",
              "    <tr>\n",
              "      <th>4</th>\n",
              "      <td>1998-12-31 05:00:00</td>\n",
              "      <td>27888.0</td>\n",
              "    </tr>\n",
              "  </tbody>\n",
              "</table>\n",
              "</div>"
            ],
            "text/plain": [
              "             Datetime     Load\n",
              "0 1998-12-31 01:00:00  29309.0\n",
              "1 1998-12-31 02:00:00  28236.0\n",
              "2 1998-12-31 03:00:00  27692.0\n",
              "3 1998-12-31 04:00:00  27596.0\n",
              "4 1998-12-31 05:00:00  27888.0"
            ]
          },
          "metadata": {
            "tags": []
          },
          "execution_count": 12
        }
      ]
    },
    {
      "cell_type": "code",
      "metadata": {
        "id": "p030G5jXJbYo",
        "colab_type": "code",
        "outputId": "44a81139-47f5-4bed-bedd-4cc91519cfac",
        "colab": {
          "base_uri": "https://localhost:8080/",
          "height": 226
        }
      },
      "source": [
        "df = df.set_index('Datetime')\n",
        "df.head()"
      ],
      "execution_count": 0,
      "outputs": [
        {
          "output_type": "execute_result",
          "data": {
            "text/html": [
              "<div>\n",
              "<style scoped>\n",
              "    .dataframe tbody tr th:only-of-type {\n",
              "        vertical-align: middle;\n",
              "    }\n",
              "\n",
              "    .dataframe tbody tr th {\n",
              "        vertical-align: top;\n",
              "    }\n",
              "\n",
              "    .dataframe thead th {\n",
              "        text-align: right;\n",
              "    }\n",
              "</style>\n",
              "<table border=\"1\" class=\"dataframe\">\n",
              "  <thead>\n",
              "    <tr style=\"text-align: right;\">\n",
              "      <th></th>\n",
              "      <th>Load</th>\n",
              "    </tr>\n",
              "    <tr>\n",
              "      <th>Datetime</th>\n",
              "      <th></th>\n",
              "    </tr>\n",
              "  </thead>\n",
              "  <tbody>\n",
              "    <tr>\n",
              "      <th>1998-12-31 01:00:00</th>\n",
              "      <td>29309.0</td>\n",
              "    </tr>\n",
              "    <tr>\n",
              "      <th>1998-12-31 02:00:00</th>\n",
              "      <td>28236.0</td>\n",
              "    </tr>\n",
              "    <tr>\n",
              "      <th>1998-12-31 03:00:00</th>\n",
              "      <td>27692.0</td>\n",
              "    </tr>\n",
              "    <tr>\n",
              "      <th>1998-12-31 04:00:00</th>\n",
              "      <td>27596.0</td>\n",
              "    </tr>\n",
              "    <tr>\n",
              "      <th>1998-12-31 05:00:00</th>\n",
              "      <td>27888.0</td>\n",
              "    </tr>\n",
              "  </tbody>\n",
              "</table>\n",
              "</div>"
            ],
            "text/plain": [
              "                        Load\n",
              "Datetime                    \n",
              "1998-12-31 01:00:00  29309.0\n",
              "1998-12-31 02:00:00  28236.0\n",
              "1998-12-31 03:00:00  27692.0\n",
              "1998-12-31 04:00:00  27596.0\n",
              "1998-12-31 05:00:00  27888.0"
            ]
          },
          "metadata": {
            "tags": []
          },
          "execution_count": 13
        }
      ]
    },
    {
      "cell_type": "markdown",
      "metadata": {
        "id": "wXmHVG7NLD_F",
        "colab_type": "text"
      },
      "source": [
        "## 切 training 與 testing set"
      ]
    },
    {
      "cell_type": "code",
      "metadata": {
        "id": "hwTM57kGKUa1",
        "colab_type": "code",
        "outputId": "7bcb7e21-1f4b-4658-e995-8bc9f28dcd31",
        "colab": {
          "base_uri": "https://localhost:8080/",
          "height": 217
        }
      },
      "source": [
        "df.index"
      ],
      "execution_count": 0,
      "outputs": [
        {
          "output_type": "execute_result",
          "data": {
            "text/plain": [
              "DatetimeIndex(['1998-12-31 01:00:00', '1998-12-31 02:00:00',\n",
              "               '1998-12-31 03:00:00', '1998-12-31 04:00:00',\n",
              "               '1998-12-31 05:00:00', '1998-12-31 06:00:00',\n",
              "               '1998-12-31 07:00:00', '1998-12-31 08:00:00',\n",
              "               '1998-12-31 09:00:00', '1998-12-31 10:00:00',\n",
              "               ...\n",
              "               '2001-01-01 15:00:00', '2001-01-01 16:00:00',\n",
              "               '2001-01-01 17:00:00', '2001-01-01 18:00:00',\n",
              "               '2001-01-01 19:00:00', '2001-01-01 20:00:00',\n",
              "               '2001-01-01 21:00:00', '2001-01-01 22:00:00',\n",
              "               '2001-01-01 23:00:00', '2001-01-02 00:00:00'],\n",
              "              dtype='datetime64[ns]', name='Datetime', length=32896, freq=None)"
            ]
          },
          "metadata": {
            "tags": []
          },
          "execution_count": 14
        }
      ]
    },
    {
      "cell_type": "code",
      "metadata": {
        "id": "wFzCqa_RKOJP",
        "colab_type": "code",
        "colab": {}
      },
      "source": [
        "split_date = '2001-01-01 00:00:00'\n",
        "df_train = df.loc[df.index <= split_date].copy()\n",
        "df_test = df.loc[df.index > split_date].copy()"
      ],
      "execution_count": 0,
      "outputs": []
    },
    {
      "cell_type": "code",
      "metadata": {
        "id": "eQ9tvFcPRbX2",
        "colab_type": "code",
        "outputId": "f1fcb7c6-c8ee-4cc6-9f1e-927e3614c4d0",
        "colab": {
          "base_uri": "https://localhost:8080/",
          "height": 226
        }
      },
      "source": [
        "df_train.tail()"
      ],
      "execution_count": 0,
      "outputs": [
        {
          "output_type": "execute_result",
          "data": {
            "text/html": [
              "<div>\n",
              "<style scoped>\n",
              "    .dataframe tbody tr th:only-of-type {\n",
              "        vertical-align: middle;\n",
              "    }\n",
              "\n",
              "    .dataframe tbody tr th {\n",
              "        vertical-align: top;\n",
              "    }\n",
              "\n",
              "    .dataframe thead th {\n",
              "        text-align: right;\n",
              "    }\n",
              "</style>\n",
              "<table border=\"1\" class=\"dataframe\">\n",
              "  <thead>\n",
              "    <tr style=\"text-align: right;\">\n",
              "      <th></th>\n",
              "      <th>Load</th>\n",
              "    </tr>\n",
              "    <tr>\n",
              "      <th>Datetime</th>\n",
              "      <th></th>\n",
              "    </tr>\n",
              "  </thead>\n",
              "  <tbody>\n",
              "    <tr>\n",
              "      <th>2000-01-01 20:00:00</th>\n",
              "      <td>29331.0</td>\n",
              "    </tr>\n",
              "    <tr>\n",
              "      <th>2000-01-01 21:00:00</th>\n",
              "      <td>28912.0</td>\n",
              "    </tr>\n",
              "    <tr>\n",
              "      <th>2000-01-01 22:00:00</th>\n",
              "      <td>28139.0</td>\n",
              "    </tr>\n",
              "    <tr>\n",
              "      <th>2000-01-01 23:00:00</th>\n",
              "      <td>26905.0</td>\n",
              "    </tr>\n",
              "    <tr>\n",
              "      <th>2000-01-02 00:00:00</th>\n",
              "      <td>25043.0</td>\n",
              "    </tr>\n",
              "  </tbody>\n",
              "</table>\n",
              "</div>"
            ],
            "text/plain": [
              "                        Load\n",
              "Datetime                    \n",
              "2000-01-01 20:00:00  29331.0\n",
              "2000-01-01 21:00:00  28912.0\n",
              "2000-01-01 22:00:00  28139.0\n",
              "2000-01-01 23:00:00  26905.0\n",
              "2000-01-02 00:00:00  25043.0"
            ]
          },
          "metadata": {
            "tags": []
          },
          "execution_count": 16
        }
      ]
    },
    {
      "cell_type": "code",
      "metadata": {
        "id": "JCmK8l9EK7Ve",
        "colab_type": "code",
        "outputId": "7f768147-3974-445a-e468-21b1cf4c2f09",
        "colab": {
          "base_uri": "https://localhost:8080/",
          "height": 226
        }
      },
      "source": [
        "df_test.head()"
      ],
      "execution_count": 0,
      "outputs": [
        {
          "output_type": "execute_result",
          "data": {
            "text/html": [
              "<div>\n",
              "<style scoped>\n",
              "    .dataframe tbody tr th:only-of-type {\n",
              "        vertical-align: middle;\n",
              "    }\n",
              "\n",
              "    .dataframe tbody tr th {\n",
              "        vertical-align: top;\n",
              "    }\n",
              "\n",
              "    .dataframe thead th {\n",
              "        text-align: right;\n",
              "    }\n",
              "</style>\n",
              "<table border=\"1\" class=\"dataframe\">\n",
              "  <thead>\n",
              "    <tr style=\"text-align: right;\">\n",
              "      <th></th>\n",
              "      <th>Load</th>\n",
              "    </tr>\n",
              "    <tr>\n",
              "      <th>Datetime</th>\n",
              "      <th></th>\n",
              "    </tr>\n",
              "  </thead>\n",
              "  <tbody>\n",
              "    <tr>\n",
              "      <th>2001-12-31 01:00:00</th>\n",
              "      <td>29001.0</td>\n",
              "    </tr>\n",
              "    <tr>\n",
              "      <th>2001-12-31 02:00:00</th>\n",
              "      <td>28138.0</td>\n",
              "    </tr>\n",
              "    <tr>\n",
              "      <th>2001-12-31 03:00:00</th>\n",
              "      <td>27830.0</td>\n",
              "    </tr>\n",
              "    <tr>\n",
              "      <th>2001-12-31 04:00:00</th>\n",
              "      <td>27874.0</td>\n",
              "    </tr>\n",
              "    <tr>\n",
              "      <th>2001-12-31 05:00:00</th>\n",
              "      <td>28427.0</td>\n",
              "    </tr>\n",
              "  </tbody>\n",
              "</table>\n",
              "</div>"
            ],
            "text/plain": [
              "                        Load\n",
              "Datetime                    \n",
              "2001-12-31 01:00:00  29001.0\n",
              "2001-12-31 02:00:00  28138.0\n",
              "2001-12-31 03:00:00  27830.0\n",
              "2001-12-31 04:00:00  27874.0\n",
              "2001-12-31 05:00:00  28427.0"
            ]
          },
          "metadata": {
            "tags": []
          },
          "execution_count": 17
        }
      ]
    },
    {
      "cell_type": "code",
      "metadata": {
        "id": "i3Q_lMbb9tQS",
        "colab_type": "code",
        "outputId": "0b2b8108-54bf-4e3b-d3a3-4ef5fcab90e1",
        "colab": {
          "base_uri": "https://localhost:8080/",
          "height": 33
        }
      },
      "source": [
        "df_test.shape"
      ],
      "execution_count": 0,
      "outputs": [
        {
          "output_type": "execute_result",
          "data": {
            "text/plain": [
              "(8758, 1)"
            ]
          },
          "metadata": {
            "tags": []
          },
          "execution_count": 18
        }
      ]
    },
    {
      "cell_type": "code",
      "metadata": {
        "id": "vIF22X4x2LtP",
        "colab_type": "code",
        "outputId": "c8fb23ea-efcc-4813-8884-eabb6344b038",
        "colab": {
          "base_uri": "https://localhost:8080/",
          "height": 358
        }
      },
      "source": [
        "df_test.rename(columns={'Load': 'load testing'})\\\n",
        "  .join(df_train.rename(columns={'Load': 'load training'}), how='outer')\\\n",
        "  .plot(figsize=(15,5), title='AIGo power data', style='-')"
      ],
      "execution_count": 0,
      "outputs": [
        {
          "output_type": "execute_result",
          "data": {
            "text/plain": [
              "<matplotlib.axes._subplots.AxesSubplot at 0x7f4a7e849a58>"
            ]
          },
          "metadata": {
            "tags": []
          },
          "execution_count": 19
        },
        {
          "output_type": "display_data",
          "data": {
            "image/png": "[encoded data removed]",
            "text/plain": [
              "<Figure size 1080x360 with 1 Axes>"
            ]
          },
          "metadata": {
            "tags": [],
            "needs_background": "light"
          }
        }
      ]
    },
    {
      "cell_type": "code",
      "metadata": {
        "id": "23Io8v4QSLSy",
        "colab_type": "code",
        "colab": {}
      },
      "source": [
        "def generate_date_features(df, label=None):\n",
        "    \"\"\"\n",
        "    Creates time series features from datetime index\n",
        "    \"\"\"\n",
        "    df['date'] = df.index\n",
        "    df['hour'] = df['date'].dt.hour\n",
        "    df['dayofweek'] = df['date'].dt.dayofweek\n",
        "    df['quarter'] = df['date'].dt.quarter\n",
        "    df['month'] = df['date'].dt.month\n",
        "    df['year'] = df['date'].dt.year\n",
        "    df['dayofyear'] = df['date'].dt.dayofyear\n",
        "    df['dayofmonth'] = df['date'].dt.day\n",
        "    df['weekofyear'] = df['date'].dt.weekofyear\n",
        "    \n",
        "    X = df[['hour','dayofweek','quarter','month','year',\n",
        "           'dayofyear','dayofmonth','weekofyear']]\n",
        "    if label:\n",
        "        y = df[label]\n",
        "        return X, y\n",
        "    return X"
      ],
      "execution_count": 0,
      "outputs": []
    },
    {
      "cell_type": "markdown",
      "metadata": {
        "id": "LQ-dSXbaTSY7",
        "colab_type": "text"
      },
      "source": [
        "## 分離 X (feature vector), y (target vector)"
      ]
    },
    {
      "cell_type": "code",
      "metadata": {
        "id": "JOJe9grC2gwW",
        "colab_type": "code",
        "colab": {}
      },
      "source": [
        "X_train_ml, y_train_ml = generate_date_features(df_train, label='Load')"
      ],
      "execution_count": 0,
      "outputs": []
    },
    {
      "cell_type": "code",
      "metadata": {
        "id": "_6D7tkGCSvJh",
        "colab_type": "code",
        "outputId": "2857d5b5-2f9b-4b99-f1d4-be0b9b2583eb",
        "colab": {
          "base_uri": "https://localhost:8080/",
          "height": 226
        }
      },
      "source": [
        "X_train_ml.head()"
      ],
      "execution_count": 0,
      "outputs": [
        {
          "output_type": "execute_result",
          "data": {
            "text/html": [
              "<div>\n",
              "<style scoped>\n",
              "    .dataframe tbody tr th:only-of-type {\n",
              "        vertical-align: middle;\n",
              "    }\n",
              "\n",
              "    .dataframe tbody tr th {\n",
              "        vertical-align: top;\n",
              "    }\n",
              "\n",
              "    .dataframe thead th {\n",
              "        text-align: right;\n",
              "    }\n",
              "</style>\n",
              "<table border=\"1\" class=\"dataframe\">\n",
              "  <thead>\n",
              "    <tr style=\"text-align: right;\">\n",
              "      <th></th>\n",
              "      <th>hour</th>\n",
              "      <th>dayofweek</th>\n",
              "      <th>quarter</th>\n",
              "      <th>month</th>\n",
              "      <th>year</th>\n",
              "      <th>dayofyear</th>\n",
              "      <th>dayofmonth</th>\n",
              "      <th>weekofyear</th>\n",
              "    </tr>\n",
              "    <tr>\n",
              "      <th>Datetime</th>\n",
              "      <th></th>\n",
              "      <th></th>\n",
              "      <th></th>\n",
              "      <th></th>\n",
              "      <th></th>\n",
              "      <th></th>\n",
              "      <th></th>\n",
              "      <th></th>\n",
              "    </tr>\n",
              "  </thead>\n",
              "  <tbody>\n",
              "    <tr>\n",
              "      <th>1998-12-31 01:00:00</th>\n",
              "      <td>1</td>\n",
              "      <td>3</td>\n",
              "      <td>4</td>\n",
              "      <td>12</td>\n",
              "      <td>1998</td>\n",
              "      <td>365</td>\n",
              "      <td>31</td>\n",
              "      <td>53</td>\n",
              "    </tr>\n",
              "    <tr>\n",
              "      <th>1998-12-31 02:00:00</th>\n",
              "      <td>2</td>\n",
              "      <td>3</td>\n",
              "      <td>4</td>\n",
              "      <td>12</td>\n",
              "      <td>1998</td>\n",
              "      <td>365</td>\n",
              "      <td>31</td>\n",
              "      <td>53</td>\n",
              "    </tr>\n",
              "    <tr>\n",
              "      <th>1998-12-31 03:00:00</th>\n",
              "      <td>3</td>\n",
              "      <td>3</td>\n",
              "      <td>4</td>\n",
              "      <td>12</td>\n",
              "      <td>1998</td>\n",
              "      <td>365</td>\n",
              "      <td>31</td>\n",
              "      <td>53</td>\n",
              "    </tr>\n",
              "    <tr>\n",
              "      <th>1998-12-31 04:00:00</th>\n",
              "      <td>4</td>\n",
              "      <td>3</td>\n",
              "      <td>4</td>\n",
              "      <td>12</td>\n",
              "      <td>1998</td>\n",
              "      <td>365</td>\n",
              "      <td>31</td>\n",
              "      <td>53</td>\n",
              "    </tr>\n",
              "    <tr>\n",
              "      <th>1998-12-31 05:00:00</th>\n",
              "      <td>5</td>\n",
              "      <td>3</td>\n",
              "      <td>4</td>\n",
              "      <td>12</td>\n",
              "      <td>1998</td>\n",
              "      <td>365</td>\n",
              "      <td>31</td>\n",
              "      <td>53</td>\n",
              "    </tr>\n",
              "  </tbody>\n",
              "</table>\n",
              "</div>"
            ],
            "text/plain": [
              "                     hour  dayofweek  ...  dayofmonth  weekofyear\n",
              "Datetime                              ...                        \n",
              "1998-12-31 01:00:00     1          3  ...          31          53\n",
              "1998-12-31 02:00:00     2          3  ...          31          53\n",
              "1998-12-31 03:00:00     3          3  ...          31          53\n",
              "1998-12-31 04:00:00     4          3  ...          31          53\n",
              "1998-12-31 05:00:00     5          3  ...          31          53\n",
              "\n",
              "[5 rows x 8 columns]"
            ]
          },
          "metadata": {
            "tags": []
          },
          "execution_count": 23
        }
      ]
    },
    {
      "cell_type": "code",
      "metadata": {
        "id": "LmAWDYj5SzGo",
        "colab_type": "code",
        "outputId": "ddb52788-5d0e-4833-c502-37b619bca70e",
        "colab": {
          "base_uri": "https://localhost:8080/",
          "height": 134
        }
      },
      "source": [
        "y_train_ml.head()"
      ],
      "execution_count": 0,
      "outputs": [
        {
          "output_type": "execute_result",
          "data": {
            "text/plain": [
              "Datetime\n",
              "1998-12-31 01:00:00    29309.0\n",
              "1998-12-31 02:00:00    28236.0\n",
              "1998-12-31 03:00:00    27692.0\n",
              "1998-12-31 04:00:00    27596.0\n",
              "1998-12-31 05:00:00    27888.0\n",
              "Name: Load, dtype: float64"
            ]
          },
          "metadata": {
            "tags": []
          },
          "execution_count": 24
        }
      ]
    },
    {
      "cell_type": "code",
      "metadata": {
        "id": "Y5jXdgANTcZA",
        "colab_type": "code",
        "colab": {}
      },
      "source": [
        "X_test_ml, y_test_ml = generate_date_features(df_test, label='Load')"
      ],
      "execution_count": 0,
      "outputs": []
    },
    {
      "cell_type": "markdown",
      "metadata": {
        "id": "07uSm9YX-6kY",
        "colab_type": "text"
      },
      "source": [
        "# 模型訓練與預測"
      ]
    },
    {
      "cell_type": "markdown",
      "metadata": {
        "id": "1g6JoUZGTi-Z",
        "colab_type": "text"
      },
      "source": [
        "## XGBoost"
      ]
    },
    {
      "cell_type": "code",
      "metadata": {
        "id": "BB80UiK2U-iK",
        "colab_type": "code",
        "outputId": "38309606-3444-4601-b79e-8c8336640a11",
        "colab": {
          "base_uri": "https://localhost:8080/",
          "height": 67
        }
      },
      "source": [
        "!pip install xgboost"
      ],
      "execution_count": 0,
      "outputs": [
        {
          "output_type": "stream",
          "text": [
            "Requirement already satisfied: xgboost in /usr/local/lib/python3.6/dist-packages (0.90)\n",
            "Requirement already satisfied: scipy in /usr/local/lib/python3.6/dist-packages (from xgboost) (1.4.1)\n",
            "Requirement already satisfied: numpy in /usr/local/lib/python3.6/dist-packages (from xgboost) (1.18.4)\n"
          ],
          "name": "stdout"
        }
      ]
    },
    {
      "cell_type": "code",
      "metadata": {
        "id": "Sdw6pHq-VIV_",
        "colab_type": "code",
        "outputId": "c35e1c3e-392e-48dc-b120-07646488205b",
        "colab": {
          "base_uri": "https://localhost:8080/",
          "height": 150
        }
      },
      "source": [
        "import xgboost\n",
        "reg = xgboost.XGBRegressor(n_estimators=1000)\n",
        "reg.fit(X_train_ml, y_train_ml,\n",
        "        eval_set=[(X_train_ml, y_train_ml), (X_test_ml, y_test_ml)],\n",
        "        early_stopping_rounds=50,\n",
        "       verbose=False) # Change verbose to True if you want to see it train"
      ],
      "execution_count": 0,
      "outputs": [
        {
          "output_type": "stream",
          "text": [
            "[10:33:21] WARNING: /workspace/src/objective/regression_obj.cu:152: reg:linear is now deprecated in favor of reg:squarederror.\n"
          ],
          "name": "stdout"
        },
        {
          "output_type": "execute_result",
          "data": {
            "text/plain": [
              "XGBRegressor(base_score=0.5, booster='gbtree', colsample_bylevel=1,\n",
              "             colsample_bynode=1, colsample_bytree=1, gamma=0,\n",
              "             importance_type='gain', learning_rate=0.1, max_delta_step=0,\n",
              "             max_depth=3, min_child_weight=1, missing=None, n_estimators=1000,\n",
              "             n_jobs=1, nthread=None, objective='reg:linear', random_state=0,\n",
              "             reg_alpha=0, reg_lambda=1, scale_pos_weight=1, seed=None,\n",
              "             silent=None, subsample=1, verbosity=1)"
            ]
          },
          "metadata": {
            "tags": []
          },
          "execution_count": 88
        }
      ]
    },
    {
      "cell_type": "code",
      "metadata": {
        "id": "jjTeM8-MVVAQ",
        "colab_type": "code",
        "outputId": "0e485d4d-e643-41ec-aaff-fcf54ca490f2",
        "colab": {
          "base_uri": "https://localhost:8080/",
          "height": 295
        }
      },
      "source": [
        "# no use in this case\n",
        "from xgboost import plot_importance, plot_tree\n",
        "_ = plot_importance(reg, height=0.9)"
      ],
      "execution_count": 0,
      "outputs": [
        {
          "output_type": "display_data",
          "data": {
            "image/png": "[encoded data removed]",
            "text/plain": [
              "<Figure size 432x288 with 1 Axes>"
            ]
          },
          "metadata": {
            "tags": [],
            "needs_background": "light"
          }
        }
      ]
    },
    {
      "cell_type": "code",
      "metadata": {
        "id": "Yj7-h6VXXZ5d",
        "colab_type": "code",
        "colab": {}
      },
      "source": [
        "df_test['XGBoost Prediction'] = reg.predict(X_test_ml)\n",
        "prediction_result = pd.concat([df_test, df_train], sort=False)"
      ],
      "execution_count": 0,
      "outputs": []
    },
    {
      "cell_type": "code",
      "metadata": {
        "id": "HICaLJOqXqJT",
        "colab_type": "code",
        "outputId": "58d9750f-ef2f-462c-e458-33cc8e646eef",
        "colab": {
          "base_uri": "https://localhost:8080/",
          "height": 342
        }
      },
      "source": [
        "prediction_result[['Load','XGBoost Prediction']].plot(figsize=(15, 5))"
      ],
      "execution_count": 0,
      "outputs": [
        {
          "output_type": "execute_result",
          "data": {
            "text/plain": [
              "<matplotlib.axes._subplots.AxesSubplot at 0x7fb3442b8198>"
            ]
          },
          "metadata": {
            "tags": []
          },
          "execution_count": 91
        },
        {
          "output_type": "display_data",
          "data": {
            "image/png": "[encoded data removed]",
            "text/plain": [
              "<Figure size 1080x360 with 1 Axes>"
            ]
          },
          "metadata": {
            "tags": [],
            "needs_background": "light"
          }
        }
      ]
    },
    {
      "cell_type": "markdown",
      "metadata": {
        "id": "-pFiBAUojloi",
        "colab_type": "text"
      },
      "source": [
        "## LSTM"
      ]
    },
    {
      "cell_type": "code",
      "metadata": {
        "id": "zqjkaKyB-NKN",
        "colab_type": "code",
        "outputId": "158b9d97-d4c6-42e8-ca68-d4eb7732ab90",
        "colab": {
          "base_uri": "https://localhost:8080/",
          "height": 33
        }
      },
      "source": [
        "from keras.layers import Dense,Dropout,SimpleRNN,LSTM\n",
        "from keras.models import Sequential"
      ],
      "execution_count": 0,
      "outputs": [
        {
          "output_type": "stream",
          "text": [
            "Using TensorFlow backend.\n"
          ],
          "name": "stderr"
        }
      ]
    },
    {
      "cell_type": "code",
      "metadata": {
        "id": "HMTdg2OdmdTN",
        "colab_type": "code",
        "outputId": "d521d762-4f6d-42fd-e178-ae0bba41171f",
        "colab": {
          "base_uri": "https://localhost:8080/",
          "height": 33
        }
      },
      "source": [
        "df.shape"
      ],
      "execution_count": 0,
      "outputs": [
        {
          "output_type": "execute_result",
          "data": {
            "text/plain": [
              "(32896, 1)"
            ]
          },
          "metadata": {
            "tags": []
          },
          "execution_count": 93
        }
      ]
    },
    {
      "cell_type": "code",
      "metadata": {
        "id": "Ztj-o2keqKiu",
        "colab_type": "code",
        "outputId": "2a39617f-cc7a-4d15-9fc5-4685a73e6a5c",
        "colab": {
          "base_uri": "https://localhost:8080/",
          "height": 226
        }
      },
      "source": [
        "df.head()"
      ],
      "execution_count": 0,
      "outputs": [
        {
          "output_type": "execute_result",
          "data": {
            "text/html": [
              "<div>\n",
              "<style scoped>\n",
              "    .dataframe tbody tr th:only-of-type {\n",
              "        vertical-align: middle;\n",
              "    }\n",
              "\n",
              "    .dataframe tbody tr th {\n",
              "        vertical-align: top;\n",
              "    }\n",
              "\n",
              "    .dataframe thead th {\n",
              "        text-align: right;\n",
              "    }\n",
              "</style>\n",
              "<table border=\"1\" class=\"dataframe\">\n",
              "  <thead>\n",
              "    <tr style=\"text-align: right;\">\n",
              "      <th></th>\n",
              "      <th>Load</th>\n",
              "    </tr>\n",
              "    <tr>\n",
              "      <th>Datetime</th>\n",
              "      <th></th>\n",
              "    </tr>\n",
              "  </thead>\n",
              "  <tbody>\n",
              "    <tr>\n",
              "      <th>1998-12-31 01:00:00</th>\n",
              "      <td>29309.0</td>\n",
              "    </tr>\n",
              "    <tr>\n",
              "      <th>1998-12-31 02:00:00</th>\n",
              "      <td>28236.0</td>\n",
              "    </tr>\n",
              "    <tr>\n",
              "      <th>1998-12-31 03:00:00</th>\n",
              "      <td>27692.0</td>\n",
              "    </tr>\n",
              "    <tr>\n",
              "      <th>1998-12-31 04:00:00</th>\n",
              "      <td>27596.0</td>\n",
              "    </tr>\n",
              "    <tr>\n",
              "      <th>1998-12-31 05:00:00</th>\n",
              "      <td>27888.0</td>\n",
              "    </tr>\n",
              "  </tbody>\n",
              "</table>\n",
              "</div>"
            ],
            "text/plain": [
              "                        Load\n",
              "Datetime                    \n",
              "1998-12-31 01:00:00  29309.0\n",
              "1998-12-31 02:00:00  28236.0\n",
              "1998-12-31 03:00:00  27692.0\n",
              "1998-12-31 04:00:00  27596.0\n",
              "1998-12-31 05:00:00  27888.0"
            ]
          },
          "metadata": {
            "tags": []
          },
          "execution_count": 94
        }
      ]
    },
    {
      "cell_type": "code",
      "metadata": {
        "id": "YvWw4OcZ1Olm",
        "colab_type": "code",
        "colab": {}
      },
      "source": [
        "import numpy as np\n",
        "def load_data(data, seq_len, split_date = '2001-01-01 00:00:00'):\n",
        "    df_train = df.loc[data.index <= split_date].copy()\n",
        "    df_test = df.loc[data.index > split_date].copy()\n",
        "    print(\"df_train=%d, df_test=%d\", len(df_train), len(df_test))\n",
        "\n",
        "    X_train= []\n",
        "    y_train= []\n",
        "    X_test= []\n",
        "    y_test= []\n",
        "\n",
        "    # 序列化 \n",
        "    # training set\n",
        "    print(\"serializing training set\")\n",
        "    for i in range(seq_len, len(df_train)):\n",
        "        X_train.append(df_train.iloc[i-seq_len : i, 0])\n",
        "        y_train.append(df_train.iloc[i, 0])\n",
        "    \n",
        "    # testing set\n",
        "    print(\"serializing testing set\")\n",
        "    for i in range(seq_len, len(df_test)):\n",
        "        X_test.append(df_test.iloc[i-seq_len : i, 0])\n",
        "        y_test.append(df_test.iloc[i, 0])\n",
        "    \n",
        "    #1 last 6189 days are going to be used in test\n",
        "    '''\n",
        "    X_test = X_full[110000:]             \n",
        "    y_test = y_train[110000:]\n",
        "    \n",
        "    #2 first 110000 days are going to be used in training\n",
        "    X_train = X_train[:110000]           \n",
        "    y_train = y_train[:110000]\n",
        "    '''\n",
        "    #3 convert to numpy array\n",
        "    print(\"converting training set\")\n",
        "    X_train = np.array(X_train)\n",
        "    y_train = np.array(y_train)\n",
        "    \n",
        "    print(\"converting training set\")\n",
        "    X_test = np.array(X_test)\n",
        "    y_test = np.array(y_test)\n",
        "    \n",
        "    #4 reshape data to input into RNN models\n",
        "    print(\"reshaping training set\")\n",
        "    X_train = np.reshape(X_train, (X_train.shape[0], seq_len, 1))\n",
        "    \n",
        "    print(\"reshaping testing set\")\n",
        "    X_test = np.reshape(X_test, (X_test.shape[0], seq_len, 1))\n",
        "    \n",
        "    return [X_train, y_train, X_test, y_test]"
      ],
      "execution_count": 0,
      "outputs": []
    },
    {
      "cell_type": "code",
      "metadata": {
        "id": "UC93rlwsErWn",
        "colab_type": "code",
        "outputId": "1b33e528-0bdd-44aa-8689-dd1b55859395",
        "colab": {
          "base_uri": "https://localhost:8080/",
          "height": 33
        }
      },
      "source": [
        "import sklearn\n",
        "\n",
        "def normalize_data(df):\n",
        "    scaler = sklearn.preprocessing.MinMaxScaler()\n",
        "    df['Load']=scaler.fit_transform(df['Load'].values.reshape(-1,1))\n",
        "    return df\n",
        "\n",
        "df_norm = normalize_data(df)\n",
        "df_norm.shape"
      ],
      "execution_count": 0,
      "outputs": [
        {
          "output_type": "execute_result",
          "data": {
            "text/plain": [
              "(32896, 1)"
            ]
          },
          "metadata": {
            "tags": []
          },
          "execution_count": 96
        }
      ]
    },
    {
      "cell_type": "code",
      "metadata": {
        "id": "p88atjor1fuq",
        "colab_type": "code",
        "outputId": "fc183506-8082-4af0-ea82-693eeddfd235",
        "colab": {
          "base_uri": "https://localhost:8080/",
          "height": 201
        }
      },
      "source": [
        "#create train, test data\n",
        "import numpy as np\n",
        "seq_len = 18 #choose sequence length\n",
        "\n",
        "X_train_lstm, y_train_lstm, X_test_lstm, y_test_lstm = load_data(df_norm, seq_len)\n",
        "\n",
        "print('X_train.shape = ',X_train_lstm.shape)\n",
        "print('y_train.shape = ', y_train_lstm.shape)\n",
        "print('X_test.shape = ', X_test_lstm.shape)\n",
        "print('y_test.shape = ',y_test_lstm.shape)"
      ],
      "execution_count": 0,
      "outputs": [
        {
          "output_type": "stream",
          "text": [
            "df_train=%d, df_test=%d 24138 8758\n",
            "serializing training set\n",
            "serializing testing set\n",
            "converting training set\n",
            "converting training set\n",
            "reshaping training set\n",
            "reshaping testing set\n",
            "X_train.shape =  (24120, 18, 1)\n",
            "y_train.shape =  (24120,)\n",
            "X_test.shape =  (8740, 18, 1)\n",
            "y_test.shape =  (8740,)\n"
          ],
          "name": "stdout"
        }
      ]
    },
    {
      "cell_type": "code",
      "metadata": {
        "id": "fmwbJ8r01R_m",
        "colab_type": "code",
        "outputId": "80c60f1e-66b3-4d8a-9a1c-759178a3fe03",
        "colab": {
          "base_uri": "https://localhost:8080/",
          "height": 385
        }
      },
      "source": [
        "lstm_model = Sequential()\n",
        "\n",
        "lstm_model.add(LSTM(40,activation=\"tanh\",return_sequences=True, input_shape=(X_train_lstm.shape[1],1)))\n",
        "lstm_model.add(Dropout(0.15))\n",
        "\n",
        "lstm_model.add(LSTM(40,activation=\"tanh\",return_sequences=True))\n",
        "lstm_model.add(Dropout(0.15))\n",
        "\n",
        "lstm_model.add(LSTM(40,activation=\"tanh\",return_sequences=False))\n",
        "lstm_model.add(Dropout(0.15))\n",
        "\n",
        "lstm_model.add(Dense(1))\n",
        "\n",
        "lstm_model.summary()"
      ],
      "execution_count": 0,
      "outputs": [
        {
          "output_type": "stream",
          "text": [
            "Model: \"sequential_1\"\n",
            "_________________________________________________________________\n",
            "Layer (type)                 Output Shape              Param #   \n",
            "=================================================================\n",
            "lstm_1 (LSTM)                (None, 18, 40)            6720      \n",
            "_________________________________________________________________\n",
            "dropout_1 (Dropout)          (None, 18, 40)            0         \n",
            "_________________________________________________________________\n",
            "lstm_2 (LSTM)                (None, 18, 40)            12960     \n",
            "_________________________________________________________________\n",
            "dropout_2 (Dropout)          (None, 18, 40)            0         \n",
            "_________________________________________________________________\n",
            "lstm_3 (LSTM)                (None, 40)                12960     \n",
            "_________________________________________________________________\n",
            "dropout_3 (Dropout)          (None, 40)                0         \n",
            "_________________________________________________________________\n",
            "dense_1 (Dense)              (None, 1)                 41        \n",
            "=================================================================\n",
            "Total params: 32,681\n",
            "Trainable params: 32,681\n",
            "Non-trainable params: 0\n",
            "_________________________________________________________________\n"
          ],
          "name": "stdout"
        }
      ]
    },
    {
      "cell_type": "code",
      "metadata": {
        "id": "Na3QxZnh9wC0",
        "colab_type": "code",
        "outputId": "3a205a0f-146a-4849-aa9e-6d17a4de7ca3",
        "colab": {
          "base_uri": "https://localhost:8080/",
          "height": 368
        }
      },
      "source": [
        "lstm_model.compile(optimizer=\"adam\",loss=\"MSE\")\n",
        "lstm_model.fit(X_train_lstm, y_train_lstm, epochs=10, batch_size=1000)"
      ],
      "execution_count": 0,
      "outputs": [
        {
          "output_type": "stream",
          "text": [
            "Epoch 1/10\n",
            "24120/24120 [==============================] - 9s 370us/step - loss: 0.0401\n",
            "Epoch 2/10\n",
            "24120/24120 [==============================] - 8s 323us/step - loss: 0.0234\n",
            "Epoch 3/10\n",
            "24120/24120 [==============================] - 8s 321us/step - loss: 0.0223\n",
            "Epoch 4/10\n",
            "24120/24120 [==============================] - 8s 324us/step - loss: 0.0214\n",
            "Epoch 5/10\n",
            "24120/24120 [==============================] - 8s 329us/step - loss: 0.0202\n",
            "Epoch 6/10\n",
            "24120/24120 [==============================] - 8s 322us/step - loss: 0.0182\n",
            "Epoch 7/10\n",
            "24120/24120 [==============================] - 8s 323us/step - loss: 0.0155\n",
            "Epoch 8/10\n",
            "24120/24120 [==============================] - 8s 324us/step - loss: 0.0116\n",
            "Epoch 9/10\n",
            "24120/24120 [==============================] - 8s 321us/step - loss: 0.0092\n",
            "Epoch 10/10\n",
            "24120/24120 [==============================] - 8s 324us/step - loss: 0.0080\n"
          ],
          "name": "stdout"
        },
        {
          "output_type": "execute_result",
          "data": {
            "text/plain": [
              "<keras.callbacks.callbacks.History at 0x7fb3029cb9e8>"
            ]
          },
          "metadata": {
            "tags": []
          },
          "execution_count": 99
        }
      ]
    },
    {
      "cell_type": "code",
      "metadata": {
        "id": "9sIG_ed29zEy",
        "colab_type": "code",
        "colab": {}
      },
      "source": [
        "lstm_predictions = lstm_model.predict(X_test_lstm)"
      ],
      "execution_count": 0,
      "outputs": []
    },
    {
      "cell_type": "code",
      "metadata": {
        "id": "PXX8np_eGItF",
        "colab_type": "code",
        "colab": {}
      },
      "source": [
        "import matplotlib.pyplot as plt\n",
        "\n",
        "def plot_predictions(test, predicted, title):\n",
        "    plt.figure(figsize=(16,4))\n",
        "    plt.plot(test, color='blue',label='Actual power consumption data')\n",
        "    plt.plot(predicted, alpha=0.7, color='orange',label='Predicted power consumption data')\n",
        "    plt.title(title)\n",
        "    plt.xlabel('Time')\n",
        "    plt.ylabel('Normalized power consumption scale')\n",
        "    plt.legend()\n",
        "    plt.show()"
      ],
      "execution_count": 0,
      "outputs": []
    },
    {
      "cell_type": "code",
      "metadata": {
        "id": "8BkWL6IH92m6",
        "colab_type": "code",
        "outputId": "2f6e63eb-095e-4d72-ae41-d654e059f2bf",
        "colab": {
          "base_uri": "https://localhost:8080/",
          "height": 295
        }
      },
      "source": [
        "plot_predictions(y_test_lstm, lstm_predictions, \"Predictions made by LSTM model\")"
      ],
      "execution_count": 0,
      "outputs": [
        {
          "output_type": "display_data",
          "data": {
            "image/png": "[encoded data removed]",
            "text/plain": [
              "<Figure size 1152x288 with 1 Axes>"
            ]
          },
          "metadata": {
            "tags": [],
            "needs_background": "light"
          }
        }
      ]
    }
  ]
}